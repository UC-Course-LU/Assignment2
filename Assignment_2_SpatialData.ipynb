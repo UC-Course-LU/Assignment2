{
 "cells": [
  {
   "cell_type": "markdown",
   "source": [
    "# Assignment 2 - Spatial Data"
   ],
   "metadata": {
    "id": "zXcSWW1PKL6V"
   }
  },
  {
   "cell_type": "markdown",
   "source": [
    "***Student Name:***"
   ],
   "metadata": {
    "id": "qx5CKsL7w0hO"
   }
  },
  {
   "cell_type": "markdown",
   "source": [],
   "metadata": {
    "id": "Dp_4qP2BKUlM"
   }
  },
  {
   "cell_type": "markdown",
   "source": [
    "***Student Number:***"
   ],
   "metadata": {
    "id": "wCUy75rbw0hR"
   }
  },
  {
   "cell_type": "markdown",
   "source": [],
   "metadata": {
    "id": "17Jc3AZbKba2"
   }
  },
  {
   "cell_type": "markdown",
   "source": [
    "In this assignment, you will be asked to use your knowledge about spatial correlation functions and spatial weights to visualize several world bank data sets. Please be aware that your code is only part of the grade (60%). The actual visualization as well as your analytical approach in interpretation of the results will be graded as well (40%). The dealine for this assignment is **on 25th of October 2022, 23:55 PM**.\r\n",
    "\r\n",
    "\r\n",
    "**Submit the notebook, and a html version of your notebook via the github Classroom repo**. Please use your studentnumber as file name (i.e. s145678.ipynb and s145678.html). If you do not include both the notebook and the html file, your submission will NOT be considered.\r\n",
    "The easiest way to covert your notebook to an html file is to open it via jupyter notebook and then select File -> Download as -> HTML.  \r\n",
    "**Please try to do this multiple days before the deadline so we can help you if you run into problems!**\r\n",
    "\r\n",
    "Tasks:\r\n",
    "\r\n",
    "    1) select 2 SDGs \r\n",
    "    2) formulate your research questions \r\n",
    "    3) transform data into weight matrices, make Moran's plots and interpret them\r\n",
    "    4) display data in choropleth maps \r\n",
    "    5) answer your research questions in a short summary\r\n",
    " "
   ],
   "metadata": {
    "id": "z45FwNxZw0hT"
   }
  },
  {
   "cell_type": "markdown",
   "source": [
    "## Task 1: Sustainable Development Goals & Shapefiles"
   ],
   "metadata": {
    "id": "LhlR6w2qw0hW"
   }
  },
  {
   "cell_type": "markdown",
   "source": [
    "On this website: https://www.un.org/sustainabledevelopment/sustainable-development-goals/ the UN summarizes their sustainable development goals (SDGs). \n",
    "\n",
    "Select two goals to work on for this assignment.\n"
   ],
   "metadata": {
    "id": "pULi3Jovw0hX"
   }
  },
  {
   "cell_type": "markdown",
   "source": [
    "***I will be working on these two goals:***\n",
    "    "
   ],
   "metadata": {
    "id": "m1ZfzjTtw0ha"
   }
  },
  {
   "cell_type": "markdown",
   "source": [],
   "metadata": {
    "id": "hhWySj0hw0hc"
   }
  },
  {
   "cell_type": "markdown",
   "source": [
    "We would like you to focus on the African Continent for this exercise. Find shapefiles for the map of Africa and let us know where you found the shapefiles. Also let us know in which year the shapefiles were created and why this is relevant (hint: South Sudan). You might be able to find different shapefiles. Analyze your shapefiles. Like with any kind of \"real\" data, shapefiles can have *obstacles* that must be dealt with. For example, if your shapefile has islands, how do you define their adjacent countries? Shapefiles can also have *defects*. For example, an out of date shapefile might show old borders of a country, from when it used to border on another country that it's no longer adjacent to. Of course, if you're displaying historical data, that might be appropriate.\n",
    "We want you to examine your shapefiles for obstacles, defects and other peculiarities. How will you handle them? Motivate your choice to use these specific shapefiles."
   ],
   "metadata": {
    "id": "Gme3qsUXw0he"
   }
  },
  {
   "cell_type": "markdown",
   "source": [
    "***Link to shapefiles:***"
   ],
   "metadata": {
    "id": "kPlCTLo1w0hh"
   }
  },
  {
   "cell_type": "markdown",
   "source": [],
   "metadata": {
    "id": "I7y--GtOw0hj"
   }
  },
  {
   "cell_type": "markdown",
   "source": [
    "***Year shapefiles were created:***\n"
   ],
   "metadata": {
    "id": "l4Xs_xi4w0hk"
   }
  },
  {
   "cell_type": "markdown",
   "source": [],
   "metadata": {
    "id": "3jlVOjKew0hm"
   }
  },
  {
   "cell_type": "markdown",
   "source": [
    "***Motivation for selecting the shapefile:***"
   ],
   "metadata": {
    "id": "JpKaCqCYBeBE"
   }
  },
  {
   "cell_type": "markdown",
   "source": [],
   "metadata": {
    "id": "VpkfNQ_PKx6c"
   }
  },
  {
   "cell_type": "markdown",
   "source": [
    "## Task 2: Research Questions & Data Sources"
   ],
   "metadata": {
    "id": "xPzBYRnGw0hn"
   }
  },
  {
   "cell_type": "markdown",
   "source": [
    "For every SDG, you can find \"Goal x targets\" on the UN website. Use these targets to formulate at least one question per SDG (i.e., at least two questions that you want to answer). The question can be about the current state of a SDG in Africa, comparing countries/regions within Africa or a longitudinal comparison of a region. \r\n",
    "\r\n",
    "Make your research question concrete. Something like \"What is the state of SDG 7 in Africa?\" is too broad. Something like: \"Using variable x a proxy for the development of SDG 7, how do the West-African Countries fare compared to the rest of Africa?\" is much more concrete, and narrows your question down to an achievable outcome. It also gives you something to discuss in your report.   \r\n",
    "\r\n",
    "Discuss your research question on the Brightspace forum if you are not sure. Help each other, also by asking for help if you are not used to formulate research questions yourself! \r\n",
    "\r\n",
    "\r\n",
    "We will answer questions and doubts about research questions on the Brightspace forum until **October 21th**. That means: if you would like to have us check your question before you continue working on this assignment, make sure you post it until October 21th, we will answer as quickly as possible. After October 21th , we will not check individual research questions, but you will still be able to see what we answered and you can refer to the forum as a guideline. \r\n"
   ],
   "metadata": {
    "id": "AiGZAGmxw0ho"
   }
  },
  {
   "cell_type": "markdown",
   "source": [
    "***1st research question:***\n",
    "\n"
   ],
   "metadata": {
    "id": "b-TgLFDDw0hq"
   }
  },
  {
   "cell_type": "markdown",
   "source": [],
   "metadata": {
    "id": "HxScXNp3LB0E"
   }
  },
  {
   "cell_type": "markdown",
   "source": [
    "***2nd research question:***"
   ],
   "metadata": {
    "id": "d8XGxricLB51"
   }
  },
  {
   "cell_type": "markdown",
   "source": [],
   "metadata": {
    "id": "NuPKFN2vLB3a"
   }
  },
  {
   "cell_type": "markdown",
   "source": [
    "On the worldbank website, you can easily find matching data: https://datacatalog.worldbank.org/dataset/sustainable-development-goals. You are free to use other data sources. Make sure to share them with us though. \n",
    "\n",
    "**Important:**\n",
    "\n",
    "! We want to re-run your analyses, so please include a link to the data that you are using in your submission!\n",
    "\n",
    "\n"
   ],
   "metadata": {
    "id": "zhkwAksvw0hs"
   }
  },
  {
   "cell_type": "markdown",
   "source": [
    "***Links to data:***"
   ],
   "metadata": {
    "id": "PhMSOZJRw0hu"
   }
  },
  {
   "cell_type": "markdown",
   "source": [],
   "metadata": {
    "id": "qGMe8h_Lw0hx"
   }
  },
  {
   "cell_type": "markdown",
   "source": [
    "## Task 3: Spatial Lag & Moran's Plot"
   ],
   "metadata": {
    "id": "IhupTGNNw0h0"
   }
  },
  {
   "cell_type": "markdown",
   "source": [
    "In Lab 4 (http://darribas.org/gds16/labs/Lab_04.html) by Dani Arribas, you can see examples of weight matrices and at the end an explanation of spatial lag and the Morans plot (Watch out, this is not Moran's I/ Moran's spatial autocorrelation, which is also often calculated in spatial analytics), We have provided a modified version of this lab ready to go in this repo. \r\n",
    "Read and understand the concept of spatial lag first. In a Moran's plot, you can show how the value of a variable relates to it's spatial lag (or the average of this value in the surrounding areas). \r\n",
    "\r\n",
    "Additional information: \r\n",
    "* [Dani Arribas written course material](http://darribas.org/gds_scipy16/)\r\n",
    "* [installing](https://pysal.org/install) and [getting started](https://pysal.org/getting_started) with PySAL.\r\n",
    "\r\n",
    "Your tasks:\r\n",
    "\r\n",
    "Create two Morans plots based on the variables related to your research questions and interpret them: \r\n",
    "\r\n",
    "What can you say about the entire continent?\r\n",
    "\r\n",
    "Can you find meaningful subregions? \r\n",
    "\r\n",
    "What if you use block weights around those subregions and re-run the analysis? "
   ],
   "metadata": {
    "id": "nOiQJQ3kw0h1"
   }
  },
  {
   "cell_type": "code",
   "execution_count": null,
   "source": [
    "#Spatial lag, Morans Plot"
   ],
   "outputs": [],
   "metadata": {
    "id": "V3Dltrlrw0h2"
   }
  },
  {
   "cell_type": "markdown",
   "source": [
    "***Interpretation:***"
   ],
   "metadata": {
    "id": "1L-XIye8w0h7"
   }
  },
  {
   "cell_type": "markdown",
   "source": [],
   "metadata": {
    "id": "du_oU-_6w0h-"
   }
  },
  {
   "cell_type": "markdown",
   "source": [
    "## Task 4: Choropleth Maps"
   ],
   "metadata": {
    "id": "nnyjEEr2w0iA"
   }
  },
  {
   "cell_type": "markdown",
   "source": [
    "Use the same two variables you used in Task 3 and create a Choropleth Map. A choropleth map is a type of map which uses differences in shading, colouring, or the placing of symbols within predefined areas to indicate the average values of a particular quantity in those areas. Do a research on color-blindness and how to avoid it in creating visualisation. Choose a color-blind proof colour combination. Indicate where you found it and why you trust it with color-blind proofness. \n",
    "\n",
    "\n",
    "Does the map correspond to the findings in Morans plot?\n"
   ],
   "metadata": {
    "id": "o5JDbgbqw0iD"
   }
  },
  {
   "cell_type": "markdown",
   "source": [
    "***Chosen Colour map & motivation:*** "
   ],
   "metadata": {
    "id": "IfRZoyebw0iF"
   }
  },
  {
   "cell_type": "markdown",
   "source": [],
   "metadata": {
    "id": "IMZiF7S5LdwP"
   }
  },
  {
   "cell_type": "markdown",
   "source": [
    "***Choropleth Maps***"
   ],
   "metadata": {
    "id": "aK7Nv03wLm9u"
   }
  },
  {
   "cell_type": "code",
   "execution_count": null,
   "source": [
    "# Choropleth Maps"
   ],
   "outputs": [],
   "metadata": {
    "id": "NQcZWllvLiEX"
   }
  },
  {
   "cell_type": "markdown",
   "source": [
    "***Interpretation:***"
   ],
   "metadata": {
    "id": "YH2z2WA9w0iK"
   }
  },
  {
   "cell_type": "markdown",
   "source": [],
   "metadata": {
    "id": "byLKma1lw0iK"
   }
  },
  {
   "cell_type": "markdown",
   "source": [
    "## Task 5: Report"
   ],
   "metadata": {
    "id": "IKrnc1kuw0iO"
   }
  },
  {
   "cell_type": "markdown",
   "source": [
    "You visualized two variables related to your research questions. How would you interpret your findings and how does it help you to answer your research questions? \n",
    "\n",
    "Which extra variables would you like to use? What information are you missing in your current data? What kind of data could you use to improve your analysis?\n",
    "\n",
    "Try to answer your research questions and don't shy away from suggesting future research. "
   ],
   "metadata": {
    "id": "h9OjKW1fw0iP"
   }
  },
  {
   "cell_type": "markdown",
   "source": [
    "***Answer your research questions in 200-400 words:***"
   ],
   "metadata": {
    "collapsed": true,
    "id": "HR3lfrZ1w0iQ"
   }
  },
  {
   "cell_type": "markdown",
   "source": [],
   "metadata": {
    "id": "sqrCzPTpMeKz"
   }
  },
  {
   "cell_type": "markdown",
   "source": [
    "## How do we grade this assignment?\n",
    "Please pay attention to the following points. We consider these in calculating your final grade.\n",
    "\n",
    "First of all, we check if you have handed in the Jupyter notebook as well as a .pdf and .html version."
   ],
   "metadata": {
    "id": "LbFgvbSCw0iR"
   }
  },
  {
   "cell_type": "markdown",
   "source": [
    "1st part\n",
    "\n",
    "\n",
    "1.   We inspect the access to the correct shapefile from the link you have provides.\n",
    "2.   We consider if the shapefile is suitable for answering your research question.\n",
    "3. We consider your reasoning and motivation for selecting the shapefile.\n",
    "\n"
   ],
   "metadata": {
    "id": "9r1N_JjT5r96"
   }
  },
  {
   "cell_type": "markdown",
   "source": [
    "2nd part\n",
    "1. We consider the validity, scope and concreteness of the questions.\n",
    "2. We inspect the data sources.\n"
   ],
   "metadata": {
    "id": "648KLNEJ6cqL"
   }
  },
  {
   "cell_type": "markdown",
   "source": [
    "3rd part\n",
    "1. We consider the Moran plots.\n",
    "2. We consider the interpretations of the plots."
   ],
   "metadata": {
    "id": "ANzSrboP7Gt_"
   }
  },
  {
   "cell_type": "markdown",
   "source": [
    "4th part\n",
    "1. We consider the choropleth maps.\n",
    "2. We consider the color scheme used in the maps and that a right process is used for selecting the color scheme."
   ],
   "metadata": {
    "id": "3JfE-Cdm7bmc"
   }
  },
  {
   "cell_type": "markdown",
   "source": [
    "5th part \n",
    "1. We consider the quality of your report and if each research question is concretely answered. \n",
    "2. We consider your reflection on the data you used.\n",
    "3. We consider the interpretations deduced from the plots.\n",
    "4. We consider your ideas for additional data and further research.\n"
   ],
   "metadata": {
    "id": "TZKDmbeF-YE8"
   }
  }
 ],
 "metadata": {
  "colab": {
   "collapsed_sections": [],
   "name": "Assignment_2_SpatialData.ipynb",
   "provenance": []
  },
  "kernelspec": {
   "display_name": "Python 3",
   "language": "python",
   "name": "python3"
  },
  "language_info": {
   "codemirror_mode": {
    "name": "ipython",
    "version": 3
   },
   "file_extension": ".py",
   "mimetype": "text/x-python",
   "name": "python",
   "nbconvert_exporter": "python",
   "pygments_lexer": "ipython3",
   "version": "3.9.5"
  }
 },
 "nbformat": 4,
 "nbformat_minor": 1
}
